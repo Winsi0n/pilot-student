{
 "cells": [
  {
   "cell_type": "code",
   "execution_count": null,
   "metadata": {},
   "outputs": [
    {
     "name": "stdin",
     "output_type": "stream",
     "text": [
      "请输'b'（表示“大”）或者's'（表示“小”）或按'q'退出游戏。 b\n"
     ]
    },
    {
     "name": "stdout",
     "output_type": "stream",
     "text": [
      "骰子是2\n",
      "电脑赢了你！你扣一分\n",
      "请输'b'（表示“大”）或者's'（表示“小”）或按'q'退出游戏。\n"
     ]
    },
    {
     "name": "stdin",
     "output_type": "stream",
     "text": [
      " s\n"
     ]
    },
    {
     "name": "stdout",
     "output_type": "stream",
     "text": [
      "骰子是6\n",
      "电脑赢了你！你扣一分\n",
      "请输'b'（表示“大”）或者's'（表示“小”）或按'q'退出游戏。\n"
     ]
    }
   ],
   "source": [
    "from random import randrange\n",
    "\n",
    "\n",
    "\n",
    "def betgame(dice, wager):\n",
    "    \n",
    "    BotPoint = 10\n",
    "    PlayerPoint = 10\n",
    "    \n",
    "    \n",
    "    if (dice > 7) & (wager == 's'):\n",
    "        print(f'骰子是{dice}\\n你赢了电脑！电脑扣一分')\n",
    "        BotPoint -= 1\n",
    "        \n",
    "    elif (dice < 7) & (wager == 'b'):\n",
    "        print(f'骰子是{dice}\\n电脑赢了你！你扣一分')\n",
    "        PlayerPoint -= 1\n",
    "        \n",
    "    elif (dice < 7) & (wager == 'b'):\n",
    "        print(f'骰子是{dice}\\n你赢了电脑！电脑扣一分')\n",
    "        BotPoint -= 1\n",
    "        \n",
    "    elif (dice < 7) & (wager == 's'):\n",
    "        print(f'骰子是{dice}\\n电脑赢了你！你扣一分')\n",
    "        PlayerPoint -= 1 \n",
    "        \n",
    "    \n",
    "\n",
    "wager_1 = input(\"请输'b'（表示“大”）或者's'（表示“小”）或按'q'退出游戏。\")\n",
    "while wager_1  != 'q': \n",
    "    dice_1 = randrange(2,13)\n",
    "    betgame(dice_1, wager_1)\n",
    "    print(\"请输'b'（表示“大”）或者's'（表示“小”）或按'q'退出游戏。\")\n",
    "    wager_1 = input()\n",
    "\n",
    "    \n",
    "\n"
   ]
  }
 ],
 "metadata": {
  "kernelspec": {
   "display_name": "Python 3",
   "language": "python",
   "name": "python3"
  },
  "language_info": {
   "codemirror_mode": {
    "name": "ipython",
    "version": 3
   },
   "file_extension": ".py",
   "mimetype": "text/x-python",
   "name": "python",
   "nbconvert_exporter": "python",
   "pygments_lexer": "ipython3",
   "version": "3.7.4"
  }
 },
 "nbformat": 4,
 "nbformat_minor": 4
}
